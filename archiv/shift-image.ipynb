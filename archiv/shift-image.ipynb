{
 "cells": [
  {
   "cell_type": "code",
   "execution_count": 3,
   "metadata": {},
   "outputs": [],
   "source": [
    "from PIL import Image\n",
    "\n",
    "def shift_color_channels_left(image_path):\n",
    "    # Open the image\n",
    "    img = Image.open(image_path)\n",
    "\n",
    "    # Split the image into individual color channels\n",
    "    red, green, blue = img.split()\n",
    "\n",
    "    # Shift the color channels to the left\n",
    "    shifted_red = red.point(lambda i: max(0, i - 1))\n",
    "    shifted_green = green.point(lambda i: max(0, i - 1))\n",
    "    shifted_blue = blue.point(lambda i: max(0, i - 1))\n",
    "\n",
    "    # Create a new image with the shifted color channels\n",
    "    shifted_image = Image.merge(\"RGB\", (shifted_red, shifted_green, shifted_blue))\n",
    "\n",
    "    # Show the original and shifted images (optional)\n",
    "    img.show()\n",
    "    shifted_image.show()\n",
    "\n",
    "    # Save the shifted image\n",
    "    shifted_image.save('shifted_image.png')\n",
    "\n",
    "shift_colors_left('/Users/severin/Documents/GitHub/u-net-segmentation-of-streets-and-cars/image_resized.png')"
   ]
  }
 ],
 "metadata": {
  "kernelspec": {
   "display_name": "datascience",
   "language": "python",
   "name": "datascience"
  },
  "language_info": {
   "codemirror_mode": {
    "name": "ipython",
    "version": 3
   },
   "file_extension": ".py",
   "mimetype": "text/x-python",
   "name": "python",
   "nbconvert_exporter": "python",
   "pygments_lexer": "ipython3",
   "version": "3.11.2"
  }
 },
 "nbformat": 4,
 "nbformat_minor": 2
}
